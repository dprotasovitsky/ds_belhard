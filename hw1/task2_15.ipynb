{
  "nbformat": 4,
  "nbformat_minor": 0,
  "metadata": {
    "colab": {
      "provenance": [],
      "authorship_tag": "ABX9TyNz0nU/bSvhOFEzdndsxBBA",
      "include_colab_link": true
    },
    "kernelspec": {
      "name": "python3",
      "display_name": "Python 3"
    },
    "language_info": {
      "name": "python"
    }
  },
  "cells": [
    {
      "cell_type": "markdown",
      "metadata": {
        "id": "view-in-github",
        "colab_type": "text"
      },
      "source": [
        "<a href=\"https://colab.research.google.com/github/dprotasovitsky/ds_belhard/blob/main/task2_15.ipynb\" target=\"_parent\"><img src=\"https://colab.research.google.com/assets/colab-badge.svg\" alt=\"Open In Colab\"/></a>"
      ]
    },
    {
      "cell_type": "markdown",
      "source": [
        "Необходимо написать код на Python и оценить сложность вашего алгоритма О(N).\n",
        "15.Напишите функцию, которая принимает список чисел и возвращает кортеж из двух элементов: минимального и максимального числа."
      ],
      "metadata": {
        "id": "7qHA_MF3zo-M"
      }
    },
    {
      "cell_type": "code",
      "execution_count": 20,
      "metadata": {
        "colab": {
          "base_uri": "https://localhost:8080/"
        },
        "id": "trncT9OGzEvK",
        "outputId": "c74ba4a4-edb8-4d87-a6c6-3444bcfe1bb6"
      },
      "outputs": [
        {
          "output_type": "stream",
          "name": "stdout",
          "text": [
            "Список чисел = [90, 8, 36, 76, 68, 27, 81, 61, 7, 86, 40, 47, 62, 64, 69, 100, 48, 33, 76, 36]\n",
            "Ответ(min,max) =  (7, 100)\n"
          ]
        }
      ],
      "source": [
        "def find_min_max(numbers):\n",
        "  if not numbers:\n",
        "    return None\n",
        "\n",
        "  min_num = numbers[0]\n",
        "  max_num = numbers[0]\n",
        "\n",
        "  for num in numbers[1:]:\n",
        "    if num < min_num:\n",
        "      min_num = num\n",
        "    if num > max_num:\n",
        "      max_num = num\n",
        "  return(min_num,max_num)\n",
        "\n",
        "\n",
        "import random\n",
        "numbers = [random.randint(1,100) for _ in range(20)]\n",
        "print('Список чисел =',numbers)\n",
        "\n",
        "\n",
        "result = find_min_max(numbers)\n",
        "print(\"Ответ(min,max) = \",result)"
      ]
    },
    {
      "cell_type": "markdown",
      "source": [
        "Линейная сложность O(n): временная сложность алгоритма линейно зависит от размера входных данных."
      ],
      "metadata": {
        "id": "Ja-kdlGZ8Azg"
      }
    }
  ]
}